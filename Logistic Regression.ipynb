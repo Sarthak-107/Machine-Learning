{
 "cells": [
  {
   "cell_type": "code",
   "execution_count": 1,
   "id": "b8739c5f",
   "metadata": {},
   "outputs": [],
   "source": [
    "import pandas as pd\n",
    "import numpy as np"
   ]
  },
  {
   "cell_type": "code",
   "execution_count": 2,
   "id": "b16ca319",
   "metadata": {},
   "outputs": [
    {
     "data": {
      "text/html": [
       "<div>\n",
       "<style scoped>\n",
       "    .dataframe tbody tr th:only-of-type {\n",
       "        vertical-align: middle;\n",
       "    }\n",
       "\n",
       "    .dataframe tbody tr th {\n",
       "        vertical-align: top;\n",
       "    }\n",
       "\n",
       "    .dataframe thead th {\n",
       "        text-align: right;\n",
       "    }\n",
       "</style>\n",
       "<table border=\"1\" class=\"dataframe\">\n",
       "  <thead>\n",
       "    <tr style=\"text-align: right;\">\n",
       "      <th></th>\n",
       "      <th>Unnamed: 0</th>\n",
       "      <th>dateTime</th>\n",
       "      <th>open</th>\n",
       "      <th>high</th>\n",
       "      <th>low</th>\n",
       "      <th>close</th>\n",
       "      <th>volume</th>\n",
       "    </tr>\n",
       "  </thead>\n",
       "  <tbody>\n",
       "    <tr>\n",
       "      <th>0</th>\n",
       "      <td>0</td>\n",
       "      <td>2021-12-23 09:15:00.0</td>\n",
       "      <td>17105.00</td>\n",
       "      <td>17129.95</td>\n",
       "      <td>17105.0</td>\n",
       "      <td>17106.15</td>\n",
       "      <td>0</td>\n",
       "    </tr>\n",
       "    <tr>\n",
       "      <th>1</th>\n",
       "      <td>1</td>\n",
       "      <td>2021-12-23 09:16:00.0</td>\n",
       "      <td>17106.05</td>\n",
       "      <td>17116.00</td>\n",
       "      <td>17100.3</td>\n",
       "      <td>17116.00</td>\n",
       "      <td>12050</td>\n",
       "    </tr>\n",
       "    <tr>\n",
       "      <th>2</th>\n",
       "      <td>2</td>\n",
       "      <td>2021-12-23 09:17:00.0</td>\n",
       "      <td>17116.15</td>\n",
       "      <td>17117.85</td>\n",
       "      <td>17102.7</td>\n",
       "      <td>17107.90</td>\n",
       "      <td>5800</td>\n",
       "    </tr>\n",
       "    <tr>\n",
       "      <th>3</th>\n",
       "      <td>3</td>\n",
       "      <td>2021-12-23 09:18:00.0</td>\n",
       "      <td>17107.90</td>\n",
       "      <td>17120.00</td>\n",
       "      <td>17107.9</td>\n",
       "      <td>17116.70</td>\n",
       "      <td>7450</td>\n",
       "    </tr>\n",
       "    <tr>\n",
       "      <th>4</th>\n",
       "      <td>4</td>\n",
       "      <td>2021-12-23 09:19:00.0</td>\n",
       "      <td>17116.70</td>\n",
       "      <td>17116.70</td>\n",
       "      <td>17105.4</td>\n",
       "      <td>17106.10</td>\n",
       "      <td>4600</td>\n",
       "    </tr>\n",
       "  </tbody>\n",
       "</table>\n",
       "</div>"
      ],
      "text/plain": [
       "   Unnamed: 0               dateTime      open      high      low     close  \\\n",
       "0           0  2021-12-23 09:15:00.0  17105.00  17129.95  17105.0  17106.15   \n",
       "1           1  2021-12-23 09:16:00.0  17106.05  17116.00  17100.3  17116.00   \n",
       "2           2  2021-12-23 09:17:00.0  17116.15  17117.85  17102.7  17107.90   \n",
       "3           3  2021-12-23 09:18:00.0  17107.90  17120.00  17107.9  17116.70   \n",
       "4           4  2021-12-23 09:19:00.0  17116.70  17116.70  17105.4  17106.10   \n",
       "\n",
       "   volume  \n",
       "0       0  \n",
       "1   12050  \n",
       "2    5800  \n",
       "3    7450  \n",
       "4    4600  "
      ]
     },
     "execution_count": 2,
     "metadata": {},
     "output_type": "execute_result"
    }
   ],
   "source": [
    "df=pd.read_csv(\"C:/Users/Sarthak Srivastava/Pattern recognition/NIFTY22JANFUT.csv\")\n",
    "df.head(5)\n"
   ]
  },
  {
   "cell_type": "code",
   "execution_count": 3,
   "id": "0c04dec0",
   "metadata": {},
   "outputs": [
    {
     "data": {
      "text/plain": [
       "8303"
      ]
     },
     "execution_count": 3,
     "metadata": {},
     "output_type": "execute_result"
    }
   ],
   "source": [
    "len(df)"
   ]
  },
  {
   "cell_type": "code",
   "execution_count": 4,
   "id": "17dd1173",
   "metadata": {},
   "outputs": [],
   "source": [
    "df['Target'] = df['close']"
   ]
  },
  {
   "cell_type": "code",
   "execution_count": 5,
   "id": "ca219f29",
   "metadata": {},
   "outputs": [],
   "source": [
    "for i in range(len(df)-1):\n",
    "    \n",
    "    if( df['Target'][i+1]-df['Target'][i]>0):\n",
    "        df.at[i, 'Target'] = 1\n",
    "    elif( df['Target'][i+1]-df['Target'][i]<0):\n",
    "        df.at[i, 'Target'] = 0\n",
    "    elif( df['Target'][i+1]-df['Target'][i]==0):\n",
    "        df.drop(i, axis=0,inplace=True)"
   ]
  },
  {
   "cell_type": "code",
   "execution_count": 6,
   "id": "d042c156",
   "metadata": {},
   "outputs": [
    {
     "data": {
      "text/plain": [
       "8130"
      ]
     },
     "execution_count": 6,
     "metadata": {},
     "output_type": "execute_result"
    }
   ],
   "source": [
    "len(df)"
   ]
  },
  {
   "cell_type": "code",
   "execution_count": 7,
   "id": "7c3cd95d",
   "metadata": {},
   "outputs": [],
   "source": [
    "df.drop(8302,inplace=True)"
   ]
  },
  {
   "cell_type": "code",
   "execution_count": 8,
   "id": "df836efc",
   "metadata": {},
   "outputs": [
    {
     "data": {
      "text/html": [
       "<div>\n",
       "<style scoped>\n",
       "    .dataframe tbody tr th:only-of-type {\n",
       "        vertical-align: middle;\n",
       "    }\n",
       "\n",
       "    .dataframe tbody tr th {\n",
       "        vertical-align: top;\n",
       "    }\n",
       "\n",
       "    .dataframe thead th {\n",
       "        text-align: right;\n",
       "    }\n",
       "</style>\n",
       "<table border=\"1\" class=\"dataframe\">\n",
       "  <thead>\n",
       "    <tr style=\"text-align: right;\">\n",
       "      <th></th>\n",
       "      <th>Unnamed: 0</th>\n",
       "      <th>dateTime</th>\n",
       "      <th>open</th>\n",
       "      <th>high</th>\n",
       "      <th>low</th>\n",
       "      <th>close</th>\n",
       "      <th>volume</th>\n",
       "      <th>Target</th>\n",
       "    </tr>\n",
       "  </thead>\n",
       "  <tbody>\n",
       "    <tr>\n",
       "      <th>0</th>\n",
       "      <td>0</td>\n",
       "      <td>2021-12-23 09:15:00.0</td>\n",
       "      <td>17105.00</td>\n",
       "      <td>17129.95</td>\n",
       "      <td>17105.00</td>\n",
       "      <td>17106.15</td>\n",
       "      <td>0</td>\n",
       "      <td>1.0</td>\n",
       "    </tr>\n",
       "    <tr>\n",
       "      <th>1</th>\n",
       "      <td>1</td>\n",
       "      <td>2021-12-23 09:16:00.0</td>\n",
       "      <td>17106.05</td>\n",
       "      <td>17116.00</td>\n",
       "      <td>17100.30</td>\n",
       "      <td>17116.00</td>\n",
       "      <td>12050</td>\n",
       "      <td>0.0</td>\n",
       "    </tr>\n",
       "    <tr>\n",
       "      <th>2</th>\n",
       "      <td>2</td>\n",
       "      <td>2021-12-23 09:17:00.0</td>\n",
       "      <td>17116.15</td>\n",
       "      <td>17117.85</td>\n",
       "      <td>17102.70</td>\n",
       "      <td>17107.90</td>\n",
       "      <td>5800</td>\n",
       "      <td>1.0</td>\n",
       "    </tr>\n",
       "    <tr>\n",
       "      <th>3</th>\n",
       "      <td>3</td>\n",
       "      <td>2021-12-23 09:18:00.0</td>\n",
       "      <td>17107.90</td>\n",
       "      <td>17120.00</td>\n",
       "      <td>17107.90</td>\n",
       "      <td>17116.70</td>\n",
       "      <td>7450</td>\n",
       "      <td>0.0</td>\n",
       "    </tr>\n",
       "    <tr>\n",
       "      <th>4</th>\n",
       "      <td>4</td>\n",
       "      <td>2021-12-23 09:19:00.0</td>\n",
       "      <td>17116.70</td>\n",
       "      <td>17116.70</td>\n",
       "      <td>17105.40</td>\n",
       "      <td>17106.10</td>\n",
       "      <td>4600</td>\n",
       "      <td>1.0</td>\n",
       "    </tr>\n",
       "    <tr>\n",
       "      <th>...</th>\n",
       "      <td>...</td>\n",
       "      <td>...</td>\n",
       "      <td>...</td>\n",
       "      <td>...</td>\n",
       "      <td>...</td>\n",
       "      <td>...</td>\n",
       "      <td>...</td>\n",
       "      <td>...</td>\n",
       "    </tr>\n",
       "    <tr>\n",
       "      <th>8295</th>\n",
       "      <td>8295</td>\n",
       "      <td>2022-01-21 15:24:00.0</td>\n",
       "      <td>17646.95</td>\n",
       "      <td>17654.50</td>\n",
       "      <td>17645.05</td>\n",
       "      <td>17654.00</td>\n",
       "      <td>60600</td>\n",
       "      <td>0.0</td>\n",
       "    </tr>\n",
       "    <tr>\n",
       "      <th>8296</th>\n",
       "      <td>8296</td>\n",
       "      <td>2022-01-21 15:25:00.0</td>\n",
       "      <td>17651.25</td>\n",
       "      <td>17653.55</td>\n",
       "      <td>17645.05</td>\n",
       "      <td>17647.65</td>\n",
       "      <td>44750</td>\n",
       "      <td>0.0</td>\n",
       "    </tr>\n",
       "    <tr>\n",
       "      <th>8297</th>\n",
       "      <td>8297</td>\n",
       "      <td>2022-01-21 15:26:00.0</td>\n",
       "      <td>17647.95</td>\n",
       "      <td>17650.20</td>\n",
       "      <td>17645.00</td>\n",
       "      <td>17645.75</td>\n",
       "      <td>20550</td>\n",
       "      <td>1.0</td>\n",
       "    </tr>\n",
       "    <tr>\n",
       "      <th>8298</th>\n",
       "      <td>8298</td>\n",
       "      <td>2022-01-21 15:27:00.0</td>\n",
       "      <td>17645.80</td>\n",
       "      <td>17650.00</td>\n",
       "      <td>17645.80</td>\n",
       "      <td>17650.00</td>\n",
       "      <td>34500</td>\n",
       "      <td>0.0</td>\n",
       "    </tr>\n",
       "    <tr>\n",
       "      <th>8299</th>\n",
       "      <td>8299</td>\n",
       "      <td>2022-01-21 15:28:00.0</td>\n",
       "      <td>17651.00</td>\n",
       "      <td>17651.00</td>\n",
       "      <td>17646.00</td>\n",
       "      <td>17647.75</td>\n",
       "      <td>43550</td>\n",
       "      <td>1.0</td>\n",
       "    </tr>\n",
       "  </tbody>\n",
       "</table>\n",
       "<p>8129 rows × 8 columns</p>\n",
       "</div>"
      ],
      "text/plain": [
       "      Unnamed: 0               dateTime      open      high       low  \\\n",
       "0              0  2021-12-23 09:15:00.0  17105.00  17129.95  17105.00   \n",
       "1              1  2021-12-23 09:16:00.0  17106.05  17116.00  17100.30   \n",
       "2              2  2021-12-23 09:17:00.0  17116.15  17117.85  17102.70   \n",
       "3              3  2021-12-23 09:18:00.0  17107.90  17120.00  17107.90   \n",
       "4              4  2021-12-23 09:19:00.0  17116.70  17116.70  17105.40   \n",
       "...          ...                    ...       ...       ...       ...   \n",
       "8295        8295  2022-01-21 15:24:00.0  17646.95  17654.50  17645.05   \n",
       "8296        8296  2022-01-21 15:25:00.0  17651.25  17653.55  17645.05   \n",
       "8297        8297  2022-01-21 15:26:00.0  17647.95  17650.20  17645.00   \n",
       "8298        8298  2022-01-21 15:27:00.0  17645.80  17650.00  17645.80   \n",
       "8299        8299  2022-01-21 15:28:00.0  17651.00  17651.00  17646.00   \n",
       "\n",
       "         close  volume  Target  \n",
       "0     17106.15       0     1.0  \n",
       "1     17116.00   12050     0.0  \n",
       "2     17107.90    5800     1.0  \n",
       "3     17116.70    7450     0.0  \n",
       "4     17106.10    4600     1.0  \n",
       "...        ...     ...     ...  \n",
       "8295  17654.00   60600     0.0  \n",
       "8296  17647.65   44750     0.0  \n",
       "8297  17645.75   20550     1.0  \n",
       "8298  17650.00   34500     0.0  \n",
       "8299  17647.75   43550     1.0  \n",
       "\n",
       "[8129 rows x 8 columns]"
      ]
     },
     "execution_count": 8,
     "metadata": {},
     "output_type": "execute_result"
    }
   ],
   "source": [
    "df.dropna()"
   ]
  },
  {
   "cell_type": "code",
   "execution_count": 9,
   "id": "e23fa54d",
   "metadata": {},
   "outputs": [],
   "source": [
    "from sklearn.linear_model import LogisticRegression\n",
    "from sklearn.metrics import mean_squared_error\n",
    "from sklearn.model_selection import train_test_split"
   ]
  },
  {
   "cell_type": "code",
   "execution_count": 10,
   "id": "a9da03b9",
   "metadata": {},
   "outputs": [],
   "source": [
    "X = df[['open', 'high','low','close','volume']]\n",
    "y = df['Target']"
   ]
  },
  {
   "cell_type": "code",
   "execution_count": 23,
   "id": "d669b935",
   "metadata": {},
   "outputs": [],
   "source": [
    "X_train, X_test, y_train, y_test = train_test_split(X, y, test_size=0.3, random_state=13)"
   ]
  },
  {
   "cell_type": "code",
   "execution_count": 24,
   "id": "a1f19f49",
   "metadata": {},
   "outputs": [],
   "source": [
    "lr = LogisticRegression()"
   ]
  },
  {
   "cell_type": "code",
   "execution_count": 25,
   "id": "757c23cd",
   "metadata": {},
   "outputs": [
    {
     "data": {
      "text/html": [
       "<style>#sk-container-id-2 {color: black;background-color: white;}#sk-container-id-2 pre{padding: 0;}#sk-container-id-2 div.sk-toggleable {background-color: white;}#sk-container-id-2 label.sk-toggleable__label {cursor: pointer;display: block;width: 100%;margin-bottom: 0;padding: 0.3em;box-sizing: border-box;text-align: center;}#sk-container-id-2 label.sk-toggleable__label-arrow:before {content: \"▸\";float: left;margin-right: 0.25em;color: #696969;}#sk-container-id-2 label.sk-toggleable__label-arrow:hover:before {color: black;}#sk-container-id-2 div.sk-estimator:hover label.sk-toggleable__label-arrow:before {color: black;}#sk-container-id-2 div.sk-toggleable__content {max-height: 0;max-width: 0;overflow: hidden;text-align: left;background-color: #f0f8ff;}#sk-container-id-2 div.sk-toggleable__content pre {margin: 0.2em;color: black;border-radius: 0.25em;background-color: #f0f8ff;}#sk-container-id-2 input.sk-toggleable__control:checked~div.sk-toggleable__content {max-height: 200px;max-width: 100%;overflow: auto;}#sk-container-id-2 input.sk-toggleable__control:checked~label.sk-toggleable__label-arrow:before {content: \"▾\";}#sk-container-id-2 div.sk-estimator input.sk-toggleable__control:checked~label.sk-toggleable__label {background-color: #d4ebff;}#sk-container-id-2 div.sk-label input.sk-toggleable__control:checked~label.sk-toggleable__label {background-color: #d4ebff;}#sk-container-id-2 input.sk-hidden--visually {border: 0;clip: rect(1px 1px 1px 1px);clip: rect(1px, 1px, 1px, 1px);height: 1px;margin: -1px;overflow: hidden;padding: 0;position: absolute;width: 1px;}#sk-container-id-2 div.sk-estimator {font-family: monospace;background-color: #f0f8ff;border: 1px dotted black;border-radius: 0.25em;box-sizing: border-box;margin-bottom: 0.5em;}#sk-container-id-2 div.sk-estimator:hover {background-color: #d4ebff;}#sk-container-id-2 div.sk-parallel-item::after {content: \"\";width: 100%;border-bottom: 1px solid gray;flex-grow: 1;}#sk-container-id-2 div.sk-label:hover label.sk-toggleable__label {background-color: #d4ebff;}#sk-container-id-2 div.sk-serial::before {content: \"\";position: absolute;border-left: 1px solid gray;box-sizing: border-box;top: 0;bottom: 0;left: 50%;z-index: 0;}#sk-container-id-2 div.sk-serial {display: flex;flex-direction: column;align-items: center;background-color: white;padding-right: 0.2em;padding-left: 0.2em;position: relative;}#sk-container-id-2 div.sk-item {position: relative;z-index: 1;}#sk-container-id-2 div.sk-parallel {display: flex;align-items: stretch;justify-content: center;background-color: white;position: relative;}#sk-container-id-2 div.sk-item::before, #sk-container-id-2 div.sk-parallel-item::before {content: \"\";position: absolute;border-left: 1px solid gray;box-sizing: border-box;top: 0;bottom: 0;left: 50%;z-index: -1;}#sk-container-id-2 div.sk-parallel-item {display: flex;flex-direction: column;z-index: 1;position: relative;background-color: white;}#sk-container-id-2 div.sk-parallel-item:first-child::after {align-self: flex-end;width: 50%;}#sk-container-id-2 div.sk-parallel-item:last-child::after {align-self: flex-start;width: 50%;}#sk-container-id-2 div.sk-parallel-item:only-child::after {width: 0;}#sk-container-id-2 div.sk-dashed-wrapped {border: 1px dashed gray;margin: 0 0.4em 0.5em 0.4em;box-sizing: border-box;padding-bottom: 0.4em;background-color: white;}#sk-container-id-2 div.sk-label label {font-family: monospace;font-weight: bold;display: inline-block;line-height: 1.2em;}#sk-container-id-2 div.sk-label-container {text-align: center;}#sk-container-id-2 div.sk-container {/* jupyter's `normalize.less` sets `[hidden] { display: none; }` but bootstrap.min.css set `[hidden] { display: none !important; }` so we also need the `!important` here to be able to override the default hidden behavior on the sphinx rendered scikit-learn.org. See: https://github.com/scikit-learn/scikit-learn/issues/21755 */display: inline-block !important;position: relative;}#sk-container-id-2 div.sk-text-repr-fallback {display: none;}</style><div id=\"sk-container-id-2\" class=\"sk-top-container\"><div class=\"sk-text-repr-fallback\"><pre>LogisticRegression()</pre><b>In a Jupyter environment, please rerun this cell to show the HTML representation or trust the notebook. <br />On GitHub, the HTML representation is unable to render, please try loading this page with nbviewer.org.</b></div><div class=\"sk-container\" hidden><div class=\"sk-item\"><div class=\"sk-estimator sk-toggleable\"><input class=\"sk-toggleable__control sk-hidden--visually\" id=\"sk-estimator-id-2\" type=\"checkbox\" checked><label for=\"sk-estimator-id-2\" class=\"sk-toggleable__label sk-toggleable__label-arrow\">LogisticRegression</label><div class=\"sk-toggleable__content\"><pre>LogisticRegression()</pre></div></div></div></div></div>"
      ],
      "text/plain": [
       "LogisticRegression()"
      ]
     },
     "execution_count": 25,
     "metadata": {},
     "output_type": "execute_result"
    }
   ],
   "source": [
    "lr.fit(X_train, y_train)"
   ]
  },
  {
   "cell_type": "code",
   "execution_count": 26,
   "id": "89618e07",
   "metadata": {},
   "outputs": [],
   "source": [
    "y_pred = lr.predict(X_test)"
   ]
  },
  {
   "cell_type": "code",
   "execution_count": 27,
   "id": "07ac4664",
   "metadata": {},
   "outputs": [
    {
     "data": {
      "text/plain": [
       "0.4944649446494465"
      ]
     },
     "execution_count": 27,
     "metadata": {},
     "output_type": "execute_result"
    }
   ],
   "source": [
    "lr.score(X_test,y_test)"
   ]
  },
  {
   "cell_type": "code",
   "execution_count": 28,
   "id": "cc112a0f",
   "metadata": {},
   "outputs": [],
   "source": [
    "error= mean_squared_error (y_test,y_pred)"
   ]
  },
  {
   "cell_type": "code",
   "execution_count": 29,
   "id": "8224a2fc",
   "metadata": {},
   "outputs": [
    {
     "data": {
      "text/plain": [
       "0.5055350553505535"
      ]
     },
     "execution_count": 29,
     "metadata": {},
     "output_type": "execute_result"
    }
   ],
   "source": [
    "error"
   ]
  },
  {
   "cell_type": "code",
   "execution_count": 30,
   "id": "55a313a6",
   "metadata": {},
   "outputs": [],
   "source": [
    "confusion = pd.crosstab(y_test,y_pred)"
   ]
  },
  {
   "cell_type": "code",
   "execution_count": 31,
   "id": "6b351627",
   "metadata": {},
   "outputs": [
    {
     "data": {
      "text/html": [
       "<div>\n",
       "<style scoped>\n",
       "    .dataframe tbody tr th:only-of-type {\n",
       "        vertical-align: middle;\n",
       "    }\n",
       "\n",
       "    .dataframe tbody tr th {\n",
       "        vertical-align: top;\n",
       "    }\n",
       "\n",
       "    .dataframe thead th {\n",
       "        text-align: right;\n",
       "    }\n",
       "</style>\n",
       "<table border=\"1\" class=\"dataframe\">\n",
       "  <thead>\n",
       "    <tr style=\"text-align: right;\">\n",
       "      <th>col_0</th>\n",
       "      <th>0.0</th>\n",
       "      <th>1.0</th>\n",
       "    </tr>\n",
       "    <tr>\n",
       "      <th>Target</th>\n",
       "      <th></th>\n",
       "      <th></th>\n",
       "    </tr>\n",
       "  </thead>\n",
       "  <tbody>\n",
       "    <tr>\n",
       "      <th>0.0</th>\n",
       "      <td>140</td>\n",
       "      <td>1075</td>\n",
       "    </tr>\n",
       "    <tr>\n",
       "      <th>1.0</th>\n",
       "      <td>158</td>\n",
       "      <td>1066</td>\n",
       "    </tr>\n",
       "  </tbody>\n",
       "</table>\n",
       "</div>"
      ],
      "text/plain": [
       "col_0   0.0   1.0\n",
       "Target           \n",
       "0.0     140  1075\n",
       "1.0     158  1066"
      ]
     },
     "execution_count": 31,
     "metadata": {},
     "output_type": "execute_result"
    }
   ],
   "source": [
    "confusion"
   ]
  },
  {
   "cell_type": "code",
   "execution_count": null,
   "id": "344dc7de",
   "metadata": {},
   "outputs": [],
   "source": []
  }
 ],
 "metadata": {
  "kernelspec": {
   "display_name": "Python 3 (ipykernel)",
   "language": "python",
   "name": "python3"
  },
  "language_info": {
   "codemirror_mode": {
    "name": "ipython",
    "version": 3
   },
   "file_extension": ".py",
   "mimetype": "text/x-python",
   "name": "python",
   "nbconvert_exporter": "python",
   "pygments_lexer": "ipython3",
   "version": "3.9.7"
  }
 },
 "nbformat": 4,
 "nbformat_minor": 5
}
